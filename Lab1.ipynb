{
 "cells": [
  {
   "cell_type": "code",
   "execution_count": 1,
   "metadata": {
    "collapsed": false
   },
   "outputs": [
    {
     "data": {
      "text/plain": [
       "2"
      ]
     },
     "execution_count": 1,
     "metadata": {},
     "output_type": "execute_result"
    }
   ],
   "source": [
    "# Can we add 2 integers\n",
    "1 + 1"
   ]
  },
  {
   "cell_type": "code",
   "execution_count": 2,
   "metadata": {
    "collapsed": false
   },
   "outputs": [
    {
     "data": {
      "text/plain": [
       "10"
      ]
     },
     "execution_count": 2,
     "metadata": {},
     "output_type": "execute_result"
    }
   ],
   "source": [
    "2 * 5"
   ]
  },
  {
   "cell_type": "code",
   "execution_count": 3,
   "metadata": {
    "collapsed": false
   },
   "outputs": [
    {
     "data": {
      "text/plain": [
       "3.3333333333333335"
      ]
     },
     "execution_count": 3,
     "metadata": {},
     "output_type": "execute_result"
    }
   ],
   "source": [
    "#what does the  / operator do do\n",
    "10/3\n",
    "#Division with a remainder"
   ]
  },
  {
   "cell_type": "code",
   "execution_count": 4,
   "metadata": {
    "collapsed": false
   },
   "outputs": [
    {
     "data": {
      "text/plain": [
       "3"
      ]
     },
     "execution_count": 4,
     "metadata": {},
     "output_type": "execute_result"
    }
   ],
   "source": [
    "10 // 3"
   ]
  },
  {
   "cell_type": "code",
   "execution_count": 5,
   "metadata": {
    "collapsed": false
   },
   "outputs": [
    {
     "data": {
      "text/plain": [
       "1"
      ]
     },
     "execution_count": 5,
     "metadata": {},
     "output_type": "execute_result"
    }
   ],
   "source": [
    "10% 3"
   ]
  },
  {
   "cell_type": "code",
   "execution_count": 6,
   "metadata": {
    "collapsed": false
   },
   "outputs": [
    {
     "data": {
      "text/plain": [
       "'Hello there'"
      ]
     },
     "execution_count": 6,
     "metadata": {},
     "output_type": "execute_result"
    }
   ],
   "source": [
    "\"Hello there\""
   ]
  },
  {
   "cell_type": "code",
   "execution_count": 7,
   "metadata": {
    "collapsed": false
   },
   "outputs": [
    {
     "data": {
      "text/plain": [
       "('The sum is: ', 12)"
      ]
     },
     "execution_count": 7,
     "metadata": {},
     "output_type": "execute_result"
    }
   ],
   "source": [
    "\"The sum is: \", 3 * 4"
   ]
  },
  {
   "cell_type": "code",
   "execution_count": 8,
   "metadata": {
    "collapsed": false
   },
   "outputs": [
    {
     "ename": "TypeError",
     "evalue": "must be str, not int",
     "output_type": "error",
     "traceback": [
      "\u001b[0;31m---------------------------------------------------------------------------\u001b[0m",
      "\u001b[0;31mTypeError\u001b[0m                                 Traceback (most recent call last)",
      "\u001b[0;32m<ipython-input-8-6c0bc7ea4474>\u001b[0m in \u001b[0;36m<module>\u001b[0;34m()\u001b[0m\n\u001b[1;32m      1\u001b[0m \u001b[1;31m#Trying to force concatation\u001b[0m\u001b[1;33m\u001b[0m\u001b[1;33m\u001b[0m\u001b[0m\n\u001b[1;32m      2\u001b[0m \u001b[1;33m\u001b[0m\u001b[0m\n\u001b[0;32m----> 3\u001b[0;31m \u001b[1;34m\"The sum of 3 * 4 is: \"\u001b[0m \u001b[1;33m+\u001b[0m \u001b[1;36m3\u001b[0m \u001b[1;33m*\u001b[0m \u001b[1;36m4\u001b[0m\u001b[1;33m\u001b[0m\u001b[0m\n\u001b[0m",
      "\u001b[0;31mTypeError\u001b[0m: must be str, not int"
     ]
    }
   ],
   "source": [
    "#Trying to force concatation\n",
    "\n",
    "\"The sum of 3 * 4 is: \" + 3 * 4"
   ]
  },
  {
   "cell_type": "code",
   "execution_count": 9,
   "metadata": {
    "collapsed": false
   },
   "outputs": [
    {
     "ename": "SyntaxError",
     "evalue": "invalid syntax (<ipython-input-9-b81115be6e43>, line 1)",
     "output_type": "error",
     "traceback": [
      "\u001b[0;36m  File \u001b[0;32m\"<ipython-input-9-b81115be6e43>\"\u001b[0;36m, line \u001b[0;32m1\u001b[0m\n\u001b[0;31m    \"The sum of 3 * 4 is: \" str(3*4)\u001b[0m\n\u001b[0m                              ^\u001b[0m\n\u001b[0;31mSyntaxError\u001b[0m\u001b[0;31m:\u001b[0m invalid syntax\n"
     ]
    }
   ],
   "source": [
    "\"The sum of 3 * 4 is: \" str(3*4)"
   ]
  },
  {
   "cell_type": "code",
   "execution_count": 10,
   "metadata": {
    "collapsed": false
   },
   "outputs": [
    {
     "data": {
      "text/plain": [
       "'The sum of 3 * 4 is: 12'"
      ]
     },
     "execution_count": 10,
     "metadata": {},
     "output_type": "execute_result"
    }
   ],
   "source": [
    "#I forgot to put the plus in after the quotes\n",
    "\"The sum of 3 * 4 is: \" + str(3*4)"
   ]
  },
  {
   "cell_type": "code",
   "execution_count": 11,
   "metadata": {
    "collapsed": false
   },
   "outputs": [
    {
     "data": {
      "text/plain": [
       "12"
      ]
     },
     "execution_count": 11,
     "metadata": {},
     "output_type": "execute_result"
    }
   ],
   "source": [
    "m = 3\n",
    "n = 4\n",
    "m * n"
   ]
  },
  {
   "cell_type": "code",
   "execution_count": 12,
   "metadata": {
    "collapsed": false
   },
   "outputs": [
    {
     "data": {
      "text/plain": [
       "'HelloHelloHelloHello'"
      ]
     },
     "execution_count": 12,
     "metadata": {},
     "output_type": "execute_result"
    }
   ],
   "source": [
    "m = \"Hello\"\n",
    "m * n"
   ]
  },
  {
   "cell_type": "code",
   "execution_count": 13,
   "metadata": {
    "collapsed": false
   },
   "outputs": [
    {
     "data": {
      "text/plain": [
       "'ll'"
      ]
     },
     "execution_count": 13,
     "metadata": {},
     "output_type": "execute_result"
    }
   ],
   "source": [
    "#Slicing \n",
    "\n",
    "m[2:4]"
   ]
  },
  {
   "cell_type": "code",
   "execution_count": 14,
   "metadata": {
    "collapsed": false
   },
   "outputs": [
    {
     "data": {
      "text/plain": [
       "'ell'"
      ]
     },
     "execution_count": 14,
     "metadata": {},
     "output_type": "execute_result"
    }
   ],
   "source": [
    "m[1:4]"
   ]
  },
  {
   "cell_type": "code",
   "execution_count": 15,
   "metadata": {
    "collapsed": true
   },
   "outputs": [
    {
     "data": {
      "text/plain": [
       "'H'"
      ]
     },
     "execution_count": 15,
     "metadata": {},
     "output_type": "execute_result"
    }
   ],
   "source": [
    "m[0]"
   ]
  },
  {
   "cell_type": "code",
   "execution_count": 16,
   "metadata": {
    "collapsed": true
   },
   "outputs": [],
   "source": [
    "m = \"dewdwdklsdokd\""
   ]
  },
  {
   "cell_type": "code",
   "execution_count": 17,
   "metadata": {
    "collapsed": false
   },
   "outputs": [
    {
     "data": {
      "text/plain": [
       "'wdwd'"
      ]
     },
     "execution_count": 17,
     "metadata": {},
     "output_type": "execute_result"
    }
   ],
   "source": [
    "m[2:6]"
   ]
  },
  {
   "cell_type": "code",
   "execution_count": 18,
   "metadata": {
    "collapsed": true
   },
   "outputs": [],
   "source": [
    "m = [2]"
   ]
  },
  {
   "cell_type": "code",
   "execution_count": 19,
   "metadata": {
    "collapsed": true
   },
   "outputs": [],
   "source": [
    "m = \"dewdwdklsdokd\"\n"
   ]
  },
  {
   "cell_type": "code",
   "execution_count": 20,
   "metadata": {
    "collapsed": false
   },
   "outputs": [
    {
     "data": {
      "text/plain": [
       "'w'"
      ]
     },
     "execution_count": 20,
     "metadata": {},
     "output_type": "execute_result"
    }
   ],
   "source": [
    "m[2]"
   ]
  },
  {
   "cell_type": "code",
   "execution_count": 21,
   "metadata": {
    "collapsed": false
   },
   "outputs": [
    {
     "name": "stdout",
     "output_type": "stream",
     "text": [
      "dewdwdklsdokd\n",
      "dewdwdklsdokd\n",
      "dewdwdklsdokd\n",
      "dewdwdklsdokd\n",
      "dewdwdklsdokd\n",
      "dewdwdklsdokd\n",
      "dewdwdklsdokd\n",
      "dewdwdklsdokd\n",
      "dewdwdklsdokd\n",
      "dewdwdklsdokd\n",
      "dewdwdklsdokd\n",
      "dewdwdklsdokd\n",
      "dewdwdklsdokd\n"
     ]
    }
   ],
   "source": [
    "for element in m:\n",
    "    print(m)"
   ]
  },
  {
   "cell_type": "code",
   "execution_count": 22,
   "metadata": {
    "collapsed": false
   },
   "outputs": [
    {
     "name": "stdout",
     "output_type": "stream",
     "text": [
      "I am a fixed string  dewdwdklsdokd\n",
      "I am a fixed string  dewdwdklsdokd\n",
      "I am a fixed string  dewdwdklsdokd\n",
      "I am a fixed string  dewdwdklsdokd\n",
      "I am a fixed string  dewdwdklsdokd\n",
      "I am a fixed string  dewdwdklsdokd\n",
      "I am a fixed string  dewdwdklsdokd\n",
      "I am a fixed string  dewdwdklsdokd\n",
      "I am a fixed string  dewdwdklsdokd\n",
      "I am a fixed string  dewdwdklsdokd\n",
      "I am a fixed string  dewdwdklsdokd\n",
      "I am a fixed string  dewdwdklsdokd\n",
      "I am a fixed string  dewdwdklsdokd\n"
     ]
    }
   ],
   "source": [
    "# Combining  fixed strings and variables\n",
    "# to output information\n",
    "for element in m:\n",
    "    print(\"I am a fixed string \" , m)\n",
    "\n"
   ]
  },
  {
   "cell_type": "code",
   "execution_count": 23,
   "metadata": {
    "collapsed": false
   },
   "outputs": [
    {
     "name": "stdout",
     "output_type": "stream",
     "text": [
      "Here is a letter d\n",
      "Here is a letter e\n",
      "Here is a letter w\n",
      "Here is a letter d\n",
      "Here is a letter w\n",
      "Here is a letter d\n",
      "Here is a letter k\n",
      "Here is a letter l\n",
      "Here is a letter s\n",
      "Here is a letter d\n",
      "Here is a letter o\n",
      "Here is a letter k\n",
      "Here is a letter d\n"
     ]
    }
   ],
   "source": [
    "#fixed string and string combo\n",
    "num = 8\n",
    "for letter in m:\n",
    "    print(\"Here is a letter\", letter)"
   ]
  },
  {
   "cell_type": "code",
   "execution_count": 24,
   "metadata": {
    "collapsed": false
   },
   "outputs": [
    {
     "name": "stdout",
     "output_type": "stream",
     "text": [
      "0 f\n",
      "1 s\n",
      "2 f\n",
      "3 s\n",
      "4 f\n",
      "5 s\n",
      "6 l\n",
      "7 s\n",
      "8 f\n"
     ]
    }
   ],
   "source": [
    "#The enumerate() function adds a counter to an iteration\n",
    "#Iteration is a general term for taking each item of something,\n",
    "#one after another. \n",
    "Any time you use a loop, explicit or implicit, to go over a group of items, that is iteration\n",
    "word = \"fsfsfslsf\"\n",
    "for element,word in enumerate(word):\n",
    "     print(element, word)\n",
    "    "
   ]
  },
  {
   "cell_type": "code",
   "execution_count": 27,
   "metadata": {
    "collapsed": false
   },
   "outputs": [
    {
     "name": "stdout",
     "output_type": "stream",
     "text": [
      "foo\n",
      "bar\n",
      "baz\n"
     ]
    },
    {
     "ename": "NameError",
     "evalue": "name 'foo' is not defined",
     "output_type": "error",
     "traceback": [
      "\u001b[0;31m---------------------------------------------------------------------------\u001b[0m",
      "\u001b[0;31mNameError\u001b[0m                                 Traceback (most recent call last)",
      "\u001b[0;32m<ipython-input-27-0665c0456038>\u001b[0m in \u001b[0;36m<module>\u001b[0;34m()\u001b[0m\n\u001b[1;32m      3\u001b[0m      \u001b[0mprint\u001b[0m \u001b[1;33m(\u001b[0m\u001b[0melem\u001b[0m\u001b[1;33m)\u001b[0m\u001b[1;33m\u001b[0m\u001b[0m\n\u001b[1;32m      4\u001b[0m \u001b[1;33m\u001b[0m\u001b[0m\n\u001b[0;32m----> 5\u001b[0;31m \u001b[0mfoo\u001b[0m\u001b[1;33m\u001b[0m\u001b[0m\n\u001b[0m\u001b[1;32m      6\u001b[0m \u001b[0mbar\u001b[0m\u001b[1;33m\u001b[0m\u001b[0m\n\u001b[1;32m      7\u001b[0m \u001b[0mbaz\u001b[0m\u001b[1;33m\u001b[0m\u001b[0m\n",
      "\u001b[0;31mNameError\u001b[0m: name 'foo' is not defined"
     ]
    }
   ],
   "source": [
    "elements = ('foo', 'bar', 'baz')\n",
    "for elem in elements:\n",
    "     print (elem)\n",
    "\n",
    "foo\n",
    "bar\n",
    "baz\n",
    "for count, elem in enumerate(elements):\n",
    "     print (count, elem)\n"
   ]
  },
  {
   "cell_type": "code",
   "execution_count": 29,
   "metadata": {
    "collapsed": false
   },
   "outputs": [
    {
     "name": "stdout",
     "output_type": "stream",
     "text": [
      "foo\n",
      "bar\n",
      "baz\n",
      "0 foo\n",
      "1 bar\n",
      "2 baz\n"
     ]
    }
   ],
   "source": [
    "elements = ('foo', 'bar', 'baz')\n",
    "for elem in elements:\n",
    "     print (elem)\n",
    "for count, elem in enumerate(elements):\n",
    "     print (count, elem)\n"
   ]
  },
  {
   "cell_type": "code",
   "execution_count": 30,
   "metadata": {
    "collapsed": false
   },
   "outputs": [
    {
     "name": "stdout",
     "output_type": "stream",
     "text": [
      "8\n",
      "6\n",
      "9\n",
      "0 8\n",
      "1 6\n",
      "2 9\n"
     ]
    }
   ],
   "source": [
    "elements = (8, 6, 9)\n",
    "for elem in elements:\n",
    "     print (elem)\n",
    "for count, elem in enumerate(elements):\n",
    "     print (count, elem)\n"
   ]
  },
  {
   "cell_type": "code",
   "execution_count": 31,
   "metadata": {
    "collapsed": false
   },
   "outputs": [
    {
     "name": "stdout",
     "output_type": "stream",
     "text": [
      "foo\n",
      "bar\n",
      "baz\n"
     ]
    },
    {
     "ename": "NameError",
     "evalue": "name 'foo' is not defined",
     "output_type": "error",
     "traceback": [
      "\u001b[0;31m---------------------------------------------------------------------------\u001b[0m",
      "\u001b[0;31mNameError\u001b[0m                                 Traceback (most recent call last)",
      "\u001b[0;32m<ipython-input-31-cf0f3d224367>\u001b[0m in \u001b[0;36m<module>\u001b[0;34m()\u001b[0m\n\u001b[1;32m      3\u001b[0m      \u001b[0mprint\u001b[0m \u001b[1;33m(\u001b[0m\u001b[0melem\u001b[0m\u001b[1;33m)\u001b[0m\u001b[1;33m\u001b[0m\u001b[0m\n\u001b[1;32m      4\u001b[0m \u001b[1;33m\u001b[0m\u001b[0m\n\u001b[0;32m----> 5\u001b[0;31m \u001b[0mfoo\u001b[0m\u001b[1;33m\u001b[0m\u001b[0m\n\u001b[0m\u001b[1;32m      6\u001b[0m \u001b[0mbar\u001b[0m\u001b[1;33m\u001b[0m\u001b[0m\n\u001b[1;32m      7\u001b[0m \u001b[0mbaz\u001b[0m\u001b[1;33m\u001b[0m\u001b[0m\n",
      "\u001b[0;31mNameError\u001b[0m: name 'foo' is not defined"
     ]
    }
   ],
   "source": [
    "elements = ('foo', 'bar', 'baz)\n",
    "for elem in elements:\n",
    "     print (elem)\n",
    "\n",
    "foo\n",
    "bar\n",
    "baz\n",
    "for count, elem in enumerate(elements,start = 0):\n",
    "     print (count, elem)"
   ]
  },
  {
   "cell_type": "code",
   "execution_count": 36,
   "metadata": {
    "collapsed": false
   },
   "outputs": [
    {
     "name": "stdout",
     "output_type": "stream",
     "text": [
      "d\n",
      "s\n",
      "f\n",
      "d\n",
      "w\n",
      "f\n",
      "u\n",
      "u\n",
      "e\n",
      "d\n",
      "c\n"
     ]
    }
   ],
   "source": [
    "elements = ('dsfdwfuuedc')\n",
    "for elem in elements:\n",
    "     print (elem)\n",
    "\n",
    "\n"
   ]
  },
  {
   "cell_type": "code",
   "execution_count": 37,
   "metadata": {
    "collapsed": false
   },
   "outputs": [
    {
     "name": "stdout",
     "output_type": "stream",
     "text": [
      "1 d\n",
      "2 s\n",
      "3 f\n",
      "4 d\n",
      "5 w\n",
      "6 f\n",
      "7 u\n",
      "8 u\n",
      "9 e\n",
      "10 d\n",
      "11 c\n"
     ]
    }
   ],
   "source": [
    "for count, elem in enumerate(elements, start = 1):\n",
    "     print (count, elem)"
   ]
  },
  {
   "cell_type": "code",
   "execution_count": 38,
   "metadata": {
    "collapsed": false
   },
   "outputs": [
    {
     "name": "stdout",
     "output_type": "stream",
     "text": [
      "0d\n",
      "1e\n",
      "2w\n",
      "3d\n",
      "4w\n",
      "5d\n",
      "6k\n",
      "7l\n",
      "8s\n",
      "9d\n",
      "10o\n",
      "11k\n",
      "12d\n"
     ]
    }
   ],
   "source": [
    "\n",
    "for idx, letter in enumerate(m):\n",
    "    #print(idx + letter)\n",
    "    print(str(idx) + letter)"
   ]
  },
  {
   "cell_type": "code",
   "execution_count": 39,
   "metadata": {
    "collapsed": false,
    "scrolled": true
   },
   "outputs": [
    {
     "name": "stdout",
     "output_type": "stream",
     "text": [
      "0 f\n",
      "1 s\n",
      "2 f\n",
      "3 s\n",
      "4 f\n",
      "5 s\n",
      "6 l\n",
      "7 s\n",
      "8 f\n"
     ]
    }
   ],
   "source": [
    "word = \"fsfsfslsf\"\n",
    "for element,word in enumerate(word):\n",
    "     print(element, word)\n",
    "    "
   ]
  },
  {
   "cell_type": "code",
   "execution_count": 40,
   "metadata": {
    "collapsed": false
   },
   "outputs": [
    {
     "name": "stdout",
     "output_type": "stream",
     "text": [
      "0 f\n",
      "1 s\n",
      "2 f\n",
      "3 s\n",
      "4 f\n",
      "5 s\n",
      "6 l\n",
      "7 s\n",
      "8 f\n"
     ]
    }
   ],
   "source": [
    "word = \"fsfsfslsf\"\n",
    "for element,word in enumerate(word):\n",
    "     print(str(element), word)"
   ]
  },
  {
   "cell_type": "code",
   "execution_count": 43,
   "metadata": {
    "collapsed": false
   },
   "outputs": [
    {
     "name": "stdout",
     "output_type": "stream",
     "text": [
      "0f\n",
      "1s\n",
      "2f\n",
      "3s\n",
      "4f\n",
      "5s\n",
      "6l\n",
      "7s\n",
      "8f\n"
     ]
    }
   ],
   "source": [
    "word = \"fsfsfslsf\"\n",
    "for element,word in enumerate(word):\n",
    "     print(str(element) + word)"
   ]
  },
  {
   "cell_type": "code",
   "execution_count": 48,
   "metadata": {
    "collapsed": false
   },
   "outputs": [
    {
     "name": "stdout",
     "output_type": "stream",
     "text": [
      "0 ----- f\n",
      "1 ----- s\n",
      "2 ----- f\n",
      "3 ----- s\n",
      "4 ----- f\n",
      "5 ----- s\n",
      "6 ----- l\n",
      "7 ----- s\n",
      "8 ----- f\n"
     ]
    }
   ],
   "source": [
    "# Combining variables and fixed strings\n",
    "# to output information\n",
    "word = \"fsfsfslsf\"\n",
    "for idx, letter in enumerate(word):\n",
    "    print('%d ----- %s' % (idx, letter))"
   ]
  },
  {
   "cell_type": "code",
   "execution_count": 50,
   "metadata": {
    "collapsed": false
   },
   "outputs": [
    {
     "name": "stdout",
     "output_type": "stream",
     "text": [
      "0 ----- T\n",
      "1 ----- h\n",
      "2 ----- i\n",
      "3 ----- s\n",
      "4 -----  \n",
      "5 ----- i\n",
      "6 ----- s\n",
      "7 -----  \n",
      "8 ----- a\n",
      "9 -----  \n",
      "10 ----- s\n",
      "11 ----- t\n",
      "12 ----- r\n",
      "13 ----- i\n",
      "14 ----- n\n",
      "15 ----- g\n"
     ]
    }
   ],
   "source": [
    "# Combining variables and fixed strings\n",
    "# to output information\n",
    "#Notice the white space here has an index position of 4 ,7 , 9\n",
    "string = \"This is a string\"\n",
    "\n",
    "for idx, letter in enumerate(string):\n",
    "    print('{0} ----- {1}'.format(idx, letter))"
   ]
  },
  {
   "cell_type": "code",
   "execution_count": 51,
   "metadata": {
    "collapsed": false
   },
   "outputs": [
    {
     "name": "stdout",
     "output_type": "stream",
     "text": [
      "0 ----- T\n",
      "1 ----- h\n",
      "2 ----- i\n",
      "3 ----- s\n",
      "4 ----- i\n",
      "5 ----- s\n",
      "6 ----- a\n",
      "7 ----- s\n",
      "8 ----- t\n",
      "9 ----- r\n",
      "10 ----- i\n",
      "11 ----- n\n",
      "12 ----- g\n"
     ]
    }
   ],
   "source": [
    "# Combining variables and fixed strings\n",
    "# to output information\n",
    "#Notice the white space here has gone\n",
    "string = \"Thisisastring\"\n",
    "\n",
    "for idx, letter in enumerate(string):\n",
    "    print('{0} ----- {1}'.format(idx, letter))"
   ]
  },
  {
   "cell_type": "code",
   "execution_count": 52,
   "metadata": {
    "collapsed": false
   },
   "outputs": [
    {
     "name": "stdout",
     "output_type": "stream",
     "text": [
      "num    word\n",
      "---------------\n",
      " 8    some words\n",
      " 9    some words\n",
      "10    some words\n",
      "11    some words\n"
     ]
    }
   ],
   "source": [
    "# Formating some strings u {0:2}sing\n",
    "#The first line will print the string 'num' and 'word' by 15\n",
    "#The second line will multiply the * character by 15 to give a nice effect \n",
    "#The third line wil start from index 8 and finish at index 11\n",
    "#Finally a print statement\n",
    "\n",
    "\n",
    "print(\"num    word\")\n",
    "print('-'*15)\n",
    "for i in range(8,12):\n",
    "    print('{0:2}    some words'.format(i))"
   ]
  },
  {
   "cell_type": "code",
   "execution_count": 55,
   "metadata": {
    "collapsed": false
   },
   "outputs": [
    {
     "name": "stdout",
     "output_type": "stream",
     "text": [
      "num    word\n",
      "---------------\n",
      "8    some words\n",
      "9    some words\n",
      "10    some words\n",
      "11    some words\n"
     ]
    }
   ],
   "source": [
    "# Formating some strings u {0:2}sing\n",
    "\n",
    "\n",
    "\n",
    "print(\"num    word\")\n",
    "print('-'*15)\n",
    "for i in range(8,12):\n",
    "    print('{0}    some words'.format(i))"
   ]
  },
  {
   "cell_type": "code",
   "execution_count": 56,
   "metadata": {
    "collapsed": false
   },
   "outputs": [
    {
     "name": "stdout",
     "output_type": "stream",
     "text": [
      "num    word\n",
      "---------------\n",
      " 8    some words\n",
      " 9    some words\n",
      "10    some words\n",
      "11    some words\n"
     ]
    }
   ],
   "source": [
    "# Formating some strings u {0:2}sing\n",
    "#The first line will print the string 'num' and 'word' by 15\n",
    "#The second line will multiply the * character by 15 to give a nice effect \n",
    "#The third line wil start from index 8 and finish at index 11\n",
    "#Finally a print statement\n",
    "\n",
    "\n",
    "print(\"num    word\")\n",
    "print('-'*15)\n",
    "for i in range(8,12):\n",
    "    print('{0:2}    some words'.format(i))"
   ]
  },
  {
   "cell_type": "code",
   "execution_count": 57,
   "metadata": {
    "collapsed": false
   },
   "outputs": [
    {
     "name": "stdout",
     "output_type": "stream",
     "text": [
      "num    word\n",
      "---------------\n"
     ]
    },
    {
     "ename": "TypeError",
     "evalue": "'int' object is not callable",
     "output_type": "error",
     "traceback": [
      "\u001b[0;31m---------------------------------------------------------------------------\u001b[0m",
      "\u001b[0;31mTypeError\u001b[0m                                 Traceback (most recent call last)",
      "\u001b[0;32m<ipython-input-57-fb1a803b0a0d>\u001b[0m in \u001b[0;36m<module>\u001b[0;34m()\u001b[0m\n\u001b[1;32m      2\u001b[0m \u001b[0mprint\u001b[0m\u001b[1;33m(\u001b[0m\u001b[1;34m'-'\u001b[0m\u001b[1;33m*\u001b[0m\u001b[1;36m15\u001b[0m\u001b[1;33m)\u001b[0m\u001b[1;33m\u001b[0m\u001b[0m\n\u001b[1;32m      3\u001b[0m \u001b[1;32mfor\u001b[0m \u001b[0mi\u001b[0m \u001b[1;32min\u001b[0m \u001b[0mrange\u001b[0m\u001b[1;33m(\u001b[0m\u001b[1;36m8\u001b[0m\u001b[1;33m,\u001b[0m\u001b[1;36m12\u001b[0m\u001b[1;33m)\u001b[0m\u001b[1;33m:\u001b[0m\u001b[1;33m\u001b[0m\u001b[0m\n\u001b[0;32m----> 4\u001b[0;31m     \u001b[0mprint\u001b[0m\u001b[1;33m(\u001b[0m\u001b[1;34m'{0:2}    some words'\u001b[0m\u001b[1;33m.\u001b[0m\u001b[0mformat\u001b[0m\u001b[1;33m(\u001b[0m\u001b[0mi\u001b[0m\u001b[1;33m(\u001b[0m\u001b[1;34m'word'\u001b[0m\u001b[1;33m,\u001b[0m\u001b[1;34m'erewrw'\u001b[0m\u001b[1;33m)\u001b[0m\u001b[1;33m)\u001b[0m\u001b[1;33m)\u001b[0m\u001b[1;33m\u001b[0m\u001b[0m\n\u001b[0m",
      "\u001b[0;31mTypeError\u001b[0m: 'int' object is not callable"
     ]
    }
   ],
   "source": [
    "print(\"num    word\")\n",
    "print('-'*15)\n",
    "for i in range(8,12):\n",
    "    print('{0:2}    some words'.format(i('word','erewrw')))"
   ]
  },
  {
   "cell_type": "code",
   "execution_count": 58,
   "metadata": {
    "collapsed": false
   },
   "outputs": [
    {
     "ename": "SyntaxError",
     "evalue": "unexpected EOF while parsing (<ipython-input-58-4bfcac0af267>, line 4)",
     "output_type": "error",
     "traceback": [
      "\u001b[0;36m  File \u001b[0;32m\"<ipython-input-58-4bfcac0af267>\"\u001b[0;36m, line \u001b[0;32m4\u001b[0m\n\u001b[0;31m    print('{0:2}    some words'.format(i('word','erewrw'))\u001b[0m\n\u001b[0m                                                          ^\u001b[0m\n\u001b[0;31mSyntaxError\u001b[0m\u001b[0;31m:\u001b[0m unexpected EOF while parsing\n"
     ]
    }
   ],
   "source": [
    "print(\"num    word\")\n",
    "print('-'*15)\n",
    "for i in range(8,12):\n",
    "    print('{0:2}    some words'.format(i('word','erewrw'))"
   ]
  },
  {
   "cell_type": "code",
   "execution_count": 59,
   "metadata": {
    "collapsed": false
   },
   "outputs": [
    {
     "ename": "SyntaxError",
     "evalue": "invalid syntax (<ipython-input-59-3ffda930a16d>, line 4)",
     "output_type": "error",
     "traceback": [
      "\u001b[0;36m  File \u001b[0;32m\"<ipython-input-59-3ffda930a16d>\"\u001b[0;36m, line \u001b[0;32m4\u001b[0m\n\u001b[0;31m    print('{0:2}    some words'.format i('word','erewrw'))\u001b[0m\n\u001b[0m                                       ^\u001b[0m\n\u001b[0;31mSyntaxError\u001b[0m\u001b[0;31m:\u001b[0m invalid syntax\n"
     ]
    }
   ],
   "source": [
    "#I got an error below bwcause the i was outside the parenthesis\n",
    "print(\"num    word\")\n",
    "print('-'*15)\n",
    "for i in range(8,12):\n",
    "    print('{0:2}    some words'.format i('word','erewrw'))"
   ]
  },
  {
   "cell_type": "code",
   "execution_count": 60,
   "metadata": {
    "collapsed": false
   },
   "outputs": [
    {
     "ename": "SyntaxError",
     "evalue": "invalid syntax (<ipython-input-60-e8d1f39a6c71>, line 4)",
     "output_type": "error",
     "traceback": [
      "\u001b[0;36m  File \u001b[0;32m\"<ipython-input-60-e8d1f39a6c71>\"\u001b[0;36m, line \u001b[0;32m4\u001b[0m\n\u001b[0;31m    print('{0:2} {2}   some words'.format i('word','erewrw'))\u001b[0m\n\u001b[0m                                          ^\u001b[0m\n\u001b[0;31mSyntaxError\u001b[0m\u001b[0;31m:\u001b[0m invalid syntax\n"
     ]
    }
   ],
   "source": [
    "print(\"num    word\")\n",
    "print('-'*15)\n",
    "for i in range(8,12):\n",
    "    print('{0:2} {2}   some words'.format i('word','erewrw'))"
   ]
  },
  {
   "cell_type": "code",
   "execution_count": 61,
   "metadata": {
    "collapsed": false
   },
   "outputs": [
    {
     "name": "stdout",
     "output_type": "stream",
     "text": [
      "num    word\n",
      "---------------\n",
      " 8    some words\n",
      " 9    some words\n",
      "10    some words\n",
      "11    some words\n"
     ]
    }
   ],
   "source": [
    "#The error is fixed\n",
    "print(\"num    word\")\n",
    "print('-'*15)\n",
    "for i in range(8,12):\n",
    "    print('{0:2}    some words'.format( i,'word','erewrw'))"
   ]
  },
  {
   "cell_type": "code",
   "execution_count": 62,
   "metadata": {
    "collapsed": true
   },
   "outputs": [],
   "source": [
    "lotto = [5, 27, 8, 26, 41, 32]"
   ]
  },
  {
   "cell_type": "code",
   "execution_count": 63,
   "metadata": {
    "collapsed": false
   },
   "outputs": [
    {
     "name": "stdout",
     "output_type": "stream",
     "text": [
      "[5, 27, 8, 26, 41, 32]\n"
     ]
    }
   ],
   "source": [
    "print(lotto)"
   ]
  },
  {
   "cell_type": "code",
   "execution_count": 64,
   "metadata": {
    "collapsed": false
   },
   "outputs": [
    {
     "ename": "SyntaxError",
     "evalue": "invalid syntax (<ipython-input-64-a047fa76bbdc>, line 1)",
     "output_type": "error",
     "traceback": [
      "\u001b[0;36m  File \u001b[0;32m\"<ipython-input-64-a047fa76bbdc>\"\u001b[0;36m, line \u001b[0;32m1\u001b[0m\n\u001b[0;31m    print sorted(lotto)\u001b[0m\n\u001b[0m               ^\u001b[0m\n\u001b[0;31mSyntaxError\u001b[0m\u001b[0;31m:\u001b[0m invalid syntax\n"
     ]
    }
   ],
   "source": [
    "print sorted(lotto)"
   ]
  },
  {
   "cell_type": "code",
   "execution_count": 65,
   "metadata": {
    "collapsed": false
   },
   "outputs": [
    {
     "name": "stdout",
     "output_type": "stream",
     "text": [
      "[5, 8, 26, 27, 32, 41]\n"
     ]
    }
   ],
   "source": [
    "#Forgot brackets\n",
    "print (sorted(lotto))"
   ]
  },
  {
   "cell_type": "code",
   "execution_count": 66,
   "metadata": {
    "collapsed": false
   },
   "outputs": [
    {
     "name": "stdout",
     "output_type": "stream",
     "text": [
      "[5, 27, 8, 26, 41, 32]\n",
      "[5, 27, 8, 26, 41, 32]\n",
      "[5, 27, 8, 26, 41, 32]\n",
      "[5, 27, 8, 26, 41, 32]\n",
      "[5, 27, 8, 26, 41, 32]\n",
      "[5, 27, 8, 26, 41, 32]\n"
     ]
    }
   ],
   "source": [
    "for element in lotto:\n",
    "    print(lotto)"
   ]
  },
  {
   "cell_type": "code",
   "execution_count": 67,
   "metadata": {
    "collapsed": false
   },
   "outputs": [
    {
     "data": {
      "text/plain": [
       "list"
      ]
     },
     "execution_count": 67,
     "metadata": {},
     "output_type": "execute_result"
    }
   ],
   "source": [
    "type(lotto)"
   ]
  },
  {
   "cell_type": "code",
   "execution_count": 68,
   "metadata": {
    "collapsed": false
   },
   "outputs": [
    {
     "data": {
      "text/plain": [
       "['__add__',\n",
       " '__class__',\n",
       " '__contains__',\n",
       " '__delattr__',\n",
       " '__delitem__',\n",
       " '__dir__',\n",
       " '__doc__',\n",
       " '__eq__',\n",
       " '__format__',\n",
       " '__ge__',\n",
       " '__getattribute__',\n",
       " '__getitem__',\n",
       " '__gt__',\n",
       " '__hash__',\n",
       " '__iadd__',\n",
       " '__imul__',\n",
       " '__init__',\n",
       " '__init_subclass__',\n",
       " '__iter__',\n",
       " '__le__',\n",
       " '__len__',\n",
       " '__lt__',\n",
       " '__mul__',\n",
       " '__ne__',\n",
       " '__new__',\n",
       " '__reduce__',\n",
       " '__reduce_ex__',\n",
       " '__repr__',\n",
       " '__reversed__',\n",
       " '__rmul__',\n",
       " '__setattr__',\n",
       " '__setitem__',\n",
       " '__sizeof__',\n",
       " '__str__',\n",
       " '__subclasshook__',\n",
       " 'append',\n",
       " 'clear',\n",
       " 'copy',\n",
       " 'count',\n",
       " 'extend',\n",
       " 'index',\n",
       " 'insert',\n",
       " 'pop',\n",
       " 'remove',\n",
       " 'reverse',\n",
       " 'sort']"
      ]
     },
     "execution_count": 68,
     "metadata": {},
     "output_type": "execute_result"
    }
   ],
   "source": [
    "dir (lotto)"
   ]
  },
  {
   "cell_type": "code",
   "execution_count": 69,
   "metadata": {
    "collapsed": false
   },
   "outputs": [
    {
     "ename": "NameError",
     "evalue": "name 'reverse' is not defined",
     "output_type": "error",
     "traceback": [
      "\u001b[0;31m---------------------------------------------------------------------------\u001b[0m",
      "\u001b[0;31mNameError\u001b[0m                                 Traceback (most recent call last)",
      "\u001b[0;32m<ipython-input-69-67ac170ac73c>\u001b[0m in \u001b[0;36m<module>\u001b[0;34m()\u001b[0m\n\u001b[0;32m----> 1\u001b[0;31m \u001b[0mprint\u001b[0m \u001b[1;33m(\u001b[0m\u001b[0mreverse\u001b[0m\u001b[1;33m(\u001b[0m\u001b[0mlotto\u001b[0m\u001b[1;33m)\u001b[0m\u001b[1;33m)\u001b[0m\u001b[1;33m\u001b[0m\u001b[0m\n\u001b[0m",
      "\u001b[0;31mNameError\u001b[0m: name 'reverse' is not defined"
     ]
    }
   ],
   "source": [
    "print (reverse(lotto))"
   ]
  },
  {
   "cell_type": "code",
   "execution_count": 70,
   "metadata": {
    "collapsed": false
   },
   "outputs": [
    {
     "name": "stdout",
     "output_type": "stream",
     "text": [
      "[5, 27, 8, 26, 41, 32]\n",
      "[5, 27, 8, 26, 41, 32]\n",
      "[5, 27, 8, 26, 41, 32]\n",
      "[5, 27, 8, 26, 41, 32]\n",
      "[5, 27, 8, 26, 41, 32]\n",
      "[5, 27, 8, 26, 41, 32]\n"
     ]
    }
   ],
   "source": [
    "for element in lotto:\n",
    "    print(lotto)"
   ]
  },
  {
   "cell_type": "code",
   "execution_count": 71,
   "metadata": {
    "collapsed": false
   },
   "outputs": [
    {
     "name": "stdout",
     "output_type": "stream",
     "text": [
      "5\n",
      "27\n",
      "8\n",
      "26\n",
      "41\n",
      "32\n"
     ]
    }
   ],
   "source": [
    "for element in lotto:\n",
    "    print(element)"
   ]
  },
  {
   "cell_type": "code",
   "execution_count": 72,
   "metadata": {
    "collapsed": false
   },
   "outputs": [
    {
     "data": {
      "text/plain": [
       "[5, 8, 26, 27, 32, 41]"
      ]
     },
     "execution_count": 72,
     "metadata": {},
     "output_type": "execute_result"
    }
   ],
   "source": [
    "sorted_lotto = sorted(lotto)\n",
    "sorted_lotto"
   ]
  },
  {
   "cell_type": "code",
   "execution_count": 73,
   "metadata": {
    "collapsed": true
   },
   "outputs": [],
   "source": [
    "lotto.append(1977)"
   ]
  },
  {
   "cell_type": "code",
   "execution_count": 75,
   "metadata": {
    "collapsed": false
   },
   "outputs": [
    {
     "name": "stdout",
     "output_type": "stream",
     "text": [
      "[5, 27, 8, 26, 41, 32, 1977]\n"
     ]
    }
   ],
   "source": [
    "print(lotto)"
   ]
  },
  {
   "cell_type": "code",
   "execution_count": 76,
   "metadata": {
    "collapsed": true
   },
   "outputs": [],
   "source": [
    "\n",
    "#Old'%s %s' % ('one', 'two')\n",
    "#\n",
    "#New'{} {}'.format('one', 'two')\n",
    "\n",
    "#Output\n",
    "\n",
    "#one two\n",
    "\n",
    "#Old\n",
    "\n",
    "#'%d %d' % (1, 2)\n",
    "\n",
    "#New'{} {}'.format(1, 2)\n",
    "\n",
    "#Output\n",
    "\n",
    "#1 2\n",
    "\n",
    "\n",
    "\n"
   ]
  },
  {
   "cell_type": "markdown",
   "metadata": {},
   "source": [
    "# Exercise:\n",
    "\n",
    "Write code to produce the following output:\n",
    "your lotto number is 5\n",
    "your lotto number is 8\n",
    "etc\n"
   ]
  },
  {
   "cell_type": "code",
   "execution_count": 77,
   "metadata": {
    "collapsed": false
   },
   "outputs": [
    {
     "ename": "TypeError",
     "evalue": "must be str, not int",
     "output_type": "error",
     "traceback": [
      "\u001b[0;31m---------------------------------------------------------------------------\u001b[0m",
      "\u001b[0;31mTypeError\u001b[0m                                 Traceback (most recent call last)",
      "\u001b[0;32m<ipython-input-77-481f9b96462e>\u001b[0m in \u001b[0;36m<module>\u001b[0;34m()\u001b[0m\n\u001b[1;32m      2\u001b[0m \u001b[1;33m\u001b[0m\u001b[0m\n\u001b[1;32m      3\u001b[0m \u001b[1;32mfor\u001b[0m \u001b[0mi\u001b[0m \u001b[1;32min\u001b[0m \u001b[1;33m(\u001b[0m\u001b[0mlotto\u001b[0m\u001b[1;33m)\u001b[0m\u001b[1;33m:\u001b[0m\u001b[1;33m\u001b[0m\u001b[0m\n\u001b[0;32m----> 4\u001b[0;31m     \u001b[0mprint\u001b[0m\u001b[1;33m(\u001b[0m\u001b[1;34m\"Your lotto number is\"\u001b[0m \u001b[1;33m+\u001b[0m \u001b[0mi\u001b[0m\u001b[1;33m)\u001b[0m\u001b[1;33m\u001b[0m\u001b[0m\n\u001b[0m",
      "\u001b[0;31mTypeError\u001b[0m: must be str, not int"
     ]
    }
   ],
   "source": [
    "lotto = [5, 27, 8, 26, 41, 32]\n",
    "\n",
    "for i in (lotto):\n",
    "    print(\"Your lotto number is\" + i)"
   ]
  },
  {
   "cell_type": "code",
   "execution_count": 78,
   "metadata": {
    "collapsed": false
   },
   "outputs": [
    {
     "name": "stdout",
     "output_type": "stream",
     "text": [
      "Your lotto number is5\n",
      "Your lotto number is27\n",
      "Your lotto number is8\n",
      "Your lotto number is26\n",
      "Your lotto number is41\n",
      "Your lotto number is32\n"
     ]
    }
   ],
   "source": [
    "lotto = [5, 27, 8, 26, 41, 32]\n",
    "\n",
    "for i in (lotto):\n",
    "    print(\"Your lotto number is\" + str (i))"
   ]
  },
  {
   "cell_type": "code",
   "execution_count": 79,
   "metadata": {
    "collapsed": false
   },
   "outputs": [
    {
     "name": "stdout",
     "output_type": "stream",
     "text": [
      "Your lotto number is5\n",
      "Your lotto number is27\n",
      "Your lotto number is8\n",
      "Your lotto number is26\n",
      "Your lotto number is41\n",
      "Your lotto number is32\n"
     ]
    }
   ],
   "source": [
    "lotto = [5, 27, 8, 26, 41, 32]\n",
    "\n",
    "for i in (lotto):\n",
    "    print(\"Your lotto number is \" + str ( i ))"
   ]
  },
  {
   "cell_type": "code",
   "execution_count": 82,
   "metadata": {
    "collapsed": false
   },
   "outputs": [
    {
     "name": "stdout",
     "output_type": "stream",
     "text": [
      "Your lotto number is 5\n",
      "Your lotto number is 8\n",
      "Your lotto number is 55\n",
      "Your lotto number is 26\n",
      "Your lotto number is 41\n",
      "Your lotto number is 32\n"
     ]
    }
   ],
   "source": [
    "#Write code to produce the following output:\n",
    "#your lotto number is 5\n",
    "#your lotto number is 8\n",
    "\n",
    "\n",
    "lotto = [5, 8, 55, 26, 41, 32]\n",
    "\n",
    "for i in (lotto):\n",
    "    print(\"Your lotto number is \" + str ( i ))"
   ]
  },
  {
   "cell_type": "code",
   "execution_count": 83,
   "metadata": {
    "collapsed": false
   },
   "outputs": [
    {
     "name": "stdout",
     "output_type": "stream",
     "text": [
      "0 fsfsfslsf\n",
      "1 fsfsfslsf\n",
      "2 fsfsfslsf\n",
      "3 fsfsfslsf\n",
      "4 fsfsfslsf\n",
      "5 fsfsfslsf\n"
     ]
    }
   ],
   "source": [
    "#Write code to produce the following output:\n",
    "#number 1 is 5\n",
    "#number 2 is 8\n",
    "\n",
    "lotto = [5, 27, 8, 26, 41, 32]\n",
    "\n",
    "for element,num in enumerate(lotto):\n",
    "     print(element, word)"
   ]
  },
  {
   "cell_type": "code",
   "execution_count": 84,
   "metadata": {
    "collapsed": false
   },
   "outputs": [
    {
     "name": "stdout",
     "output_type": "stream",
     "text": [
      "0 5\n",
      "1 27\n",
      "2 8\n",
      "3 26\n",
      "4 41\n",
      "5 32\n"
     ]
    }
   ],
   "source": [
    "\n",
    "\n",
    "lotto = [5, 27, 8, 26, 41, 32]\n",
    "\n",
    "for element,num in enumerate(lotto):\n",
    "     print(element, num)"
   ]
  },
  {
   "cell_type": "code",
   "execution_count": 85,
   "metadata": {
    "collapsed": false
   },
   "outputs": [
    {
     "ename": "NameError",
     "evalue": "name 'start' is not defined",
     "output_type": "error",
     "traceback": [
      "\u001b[0;31m---------------------------------------------------------------------------\u001b[0m",
      "\u001b[0;31mNameError\u001b[0m                                 Traceback (most recent call last)",
      "\u001b[0;32m<ipython-input-85-76c84f538664>\u001b[0m in \u001b[0;36m<module>\u001b[0;34m()\u001b[0m\n\u001b[1;32m      6\u001b[0m \u001b[0mlotto\u001b[0m \u001b[1;33m=\u001b[0m \u001b[1;33m[\u001b[0m\u001b[1;36m5\u001b[0m\u001b[1;33m,\u001b[0m \u001b[1;36m27\u001b[0m\u001b[1;33m,\u001b[0m \u001b[1;36m8\u001b[0m\u001b[1;33m,\u001b[0m \u001b[1;36m26\u001b[0m\u001b[1;33m,\u001b[0m \u001b[1;36m41\u001b[0m\u001b[1;33m,\u001b[0m \u001b[1;36m32\u001b[0m\u001b[1;33m]\u001b[0m\u001b[1;33m\u001b[0m\u001b[0m\n\u001b[1;32m      7\u001b[0m \u001b[1;33m\u001b[0m\u001b[0m\n\u001b[0;32m----> 8\u001b[0;31m \u001b[1;32mfor\u001b[0m \u001b[0melement\u001b[0m\u001b[1;33m,\u001b[0m\u001b[0mnum\u001b[0m \u001b[1;32min\u001b[0m \u001b[0menumerate\u001b[0m\u001b[1;33m(\u001b[0m\u001b[0mlotto\u001b[0m \u001b[1;33m=\u001b[0m \u001b[0mstart\u001b[0m \u001b[1;33m+\u001b[0m \u001b[1;36m1\u001b[0m\u001b[1;33m)\u001b[0m\u001b[1;33m:\u001b[0m\u001b[1;33m\u001b[0m\u001b[0m\n\u001b[0m\u001b[1;32m      9\u001b[0m      \u001b[0mprint\u001b[0m\u001b[1;33m(\u001b[0m\u001b[0melement\u001b[0m\u001b[1;33m,\u001b[0m \u001b[0mnum\u001b[0m\u001b[1;33m)\u001b[0m\u001b[1;33m\u001b[0m\u001b[0m\n",
      "\u001b[0;31mNameError\u001b[0m: name 'start' is not defined"
     ]
    }
   ],
   "source": [
    "\n",
    "\n",
    "lotto = [5, 27, 8, 26, 41, 32]\n",
    "\n",
    "for element,num in enumerate(lotto = start + 1):\n",
    "     print(element, num)"
   ]
  },
  {
   "cell_type": "code",
   "execution_count": 86,
   "metadata": {
    "collapsed": false
   },
   "outputs": [
    {
     "name": "stdout",
     "output_type": "stream",
     "text": [
      "1 5\n",
      "2 27\n",
      "3 8\n",
      "4 26\n",
      "5 41\n",
      "6 32\n"
     ]
    }
   ],
   "source": [
    "lotto = [5, 27, 8, 26, 41, 32]\n",
    "\n",
    "for element,num in enumerate(lotto ,start =  1):\n",
    "     print(element, num)"
   ]
  },
  {
   "cell_type": "code",
   "execution_count": 87,
   "metadata": {
    "collapsed": false
   },
   "outputs": [
    {
     "ename": "IndexError",
     "evalue": "tuple index out of range",
     "output_type": "error",
     "traceback": [
      "\u001b[0;31m---------------------------------------------------------------------------\u001b[0m",
      "\u001b[0;31mIndexError\u001b[0m                                Traceback (most recent call last)",
      "\u001b[0;32m<ipython-input-87-1abcbf19a8bd>\u001b[0m in \u001b[0;36m<module>\u001b[0;34m()\u001b[0m\n\u001b[1;32m      2\u001b[0m \u001b[1;33m\u001b[0m\u001b[0m\n\u001b[1;32m      3\u001b[0m \u001b[1;32mfor\u001b[0m \u001b[0melement\u001b[0m\u001b[1;33m,\u001b[0m\u001b[0mnum\u001b[0m \u001b[1;32min\u001b[0m \u001b[0menumerate\u001b[0m\u001b[1;33m(\u001b[0m\u001b[0mlotto\u001b[0m \u001b[1;33m,\u001b[0m\u001b[0mstart\u001b[0m \u001b[1;33m=\u001b[0m  \u001b[1;36m1\u001b[0m\u001b[1;33m)\u001b[0m\u001b[1;33m:\u001b[0m\u001b[1;33m\u001b[0m\u001b[0m\n\u001b[0;32m----> 4\u001b[0;31m      \u001b[0mprint\u001b[0m\u001b[1;33m(\u001b[0m\u001b[1;34m\"Number {0} is {2}  \"\u001b[0m \u001b[1;33m.\u001b[0m\u001b[0mformat\u001b[0m\u001b[1;33m(\u001b[0m\u001b[0melement\u001b[0m\u001b[1;33m,\u001b[0m \u001b[0mnum\u001b[0m\u001b[1;33m)\u001b[0m\u001b[1;33m)\u001b[0m\u001b[1;33m\u001b[0m\u001b[0m\n\u001b[0m",
      "\u001b[0;31mIndexError\u001b[0m: tuple index out of range"
     ]
    }
   ],
   "source": [
    "lotto = [5, 27, 8, 26, 41, 32]\n",
    "\n",
    "for element,num in enumerate(lotto ,start =  1):\n",
    "     print(\"Number {0} is {2}  \" .format(element, num))"
   ]
  },
  {
   "cell_type": "code",
   "execution_count": 88,
   "metadata": {
    "collapsed": false
   },
   "outputs": [
    {
     "name": "stdout",
     "output_type": "stream",
     "text": [
      "Number 1 is 5  \n",
      "Number 2 is 27  \n",
      "Number 3 is 8  \n",
      "Number 4 is 26  \n",
      "Number 5 is 41  \n",
      "Number 6 is 32  \n"
     ]
    }
   ],
   "source": [
    "#The problem was that there were only 2  items \n",
    "\n",
    "lotto = [5, 27, 8, 26, 41, 32]\n",
    "\n",
    "for element,num in enumerate(lotto ,start =  1):\n",
    "     print(\"Number {0} is {1}  \" .format(element, num))"
   ]
  },
  {
   "cell_type": "code",
   "execution_count": 89,
   "metadata": {
    "collapsed": false
   },
   "outputs": [
    {
     "name": "stdout",
     "output_type": "stream",
     "text": [
      "Number 0 is 5  \n",
      "Number 1 is 27  \n",
      "Number 2 is 8  \n",
      "Number 3 is 26  \n",
      "Number 4 is 41  \n",
      "Number 5 is 32  \n"
     ]
    }
   ],
   "source": [
    "#The problem was that there were only 2  items \n",
    "\n",
    "lotto = [5, 27, 8, 26, 41, 32]\n",
    "\n",
    "for element,num in enumerate(lotto ):\n",
    "     print(\"Number {0} is {1}  \" .format(element, num))"
   ]
  },
  {
   "cell_type": "code",
   "execution_count": 90,
   "metadata": {
    "collapsed": false
   },
   "outputs": [
    {
     "name": "stdout",
     "output_type": "stream",
     "text": [
      "Number 0 is 5 position \n",
      "Number 1 is 27 position \n",
      "Number 2 is 8 position \n",
      "Number 3 is 26 position \n",
      "Number 4 is 41 position \n",
      "Number 5 is 32 position \n"
     ]
    }
   ],
   "source": [
    "#The problem was that there were only 2  items \n",
    "\n",
    "lotto = [5, 27, 8, 26, 41, 32]\n",
    "\n",
    "for element,num in enumerate(lotto ):\n",
    "     print(\"Number {0} is {1} {2} \" .format(element, num ,\"position\"))"
   ]
  },
  {
   "cell_type": "code",
   "execution_count": 91,
   "metadata": {
    "collapsed": false
   },
   "outputs": [
    {
     "name": "stdout",
     "output_type": "stream",
     "text": [
      "5\n",
      "27\n",
      "8\n",
      "26\n",
      "41\n",
      "32\n"
     ]
    }
   ],
   "source": [
    "#Refresh\n",
    "\n",
    "\n",
    "lotto = [5, 27, 8, 26, 41, 32]\n",
    "for num in (lotto):\n",
    "    print(num)\n",
    "\n"
   ]
  },
  {
   "cell_type": "code",
   "execution_count": 92,
   "metadata": {
    "collapsed": false
   },
   "outputs": [
    {
     "name": "stdout",
     "output_type": "stream",
     "text": [
      "0 5\n",
      "1 27\n",
      "2 8\n",
      "3 26\n",
      "4 41\n",
      "5 32\n"
     ]
    }
   ],
   "source": [
    "for idx, num in enumerate(lotto):\n",
    "    print(idx, num)"
   ]
  },
  {
   "cell_type": "code",
   "execution_count": 94,
   "metadata": {
    "collapsed": false
   },
   "outputs": [
    {
     "name": "stdout",
     "output_type": "stream",
     "text": [
      "1 5\n",
      "2 27\n",
      "3 8\n",
      "4 26\n",
      "5 41\n",
      "6 32\n"
     ]
    }
   ],
   "source": [
    "# this starts at zero, fix this!\n",
    "for idx, num in enumerate(lotto):\n",
    "    print((idx+1), num)"
   ]
  },
  {
   "cell_type": "code",
   "execution_count": 95,
   "metadata": {
    "collapsed": false
   },
   "outputs": [
    {
     "name": "stdout",
     "output_type": "stream",
     "text": [
      "Number 1 is 5\n",
      "Number 2 is 8\n",
      "Number 3 is 26\n",
      "Number 4 is 27\n",
      "Number 5 is 32\n",
      "Number 6 is 41\n"
     ]
    }
   ],
   "source": [
    "# get the words number and is in the output\n",
    "for idx, num in enumerate(sorted_lotto):\n",
    "    print('Number',(idx+1),'is', num)"
   ]
  },
  {
   "cell_type": "code",
   "execution_count": 98,
   "metadata": {
    "collapsed": false
   },
   "outputs": [
    {
     "name": "stdout",
     "output_type": "stream",
     "text": [
      "Number 1 is      5\n",
      "Number 2 is      8\n",
      "Number 3 is     26\n",
      "Number 4 is     27\n",
      "Number 5 is     32\n",
      "Number 6 is     41\n"
     ]
    }
   ],
   "source": [
    "lotto = [5, 27, 8, 26, 41, 32]\n",
    "for idx, num in enumerate(sorted_lotto):\n",
    "    print('Number {0} is {1:6}'.format((idx+1),num))"
   ]
  },
  {
   "cell_type": "code",
   "execution_count": 105,
   "metadata": {
    "collapsed": false
   },
   "outputs": [
    {
     "name": "stdout",
     "output_type": "stream",
     "text": [
      "Number 1 is  5\n",
      "Number 2 is 27\n",
      "Number 3 is  8\n",
      "Number 4 is 26\n",
      "Number 5 is 41\n",
      "Number 6 is 32\n"
     ]
    }
   ],
   "source": [
    "lotto = [5, 27, 8, 26, 41, 32]\n",
    "for idx, num in enumerate(lotto):\n",
    "    print('Number {0} is {1:2}'.format((idx+1),num))"
   ]
  },
  {
   "cell_type": "code",
   "execution_count": 106,
   "metadata": {
    "collapsed": false
   },
   "outputs": [
    {
     "name": "stdout",
     "output_type": "stream",
     "text": [
      "Number 1 is  5\n",
      "Number 2 is 27\n",
      "Number 3 is  8\n",
      "Number 4 is 260\n",
      "Number 5 is 41\n",
      "Number 6 is 32\n"
     ]
    }
   ],
   "source": [
    "#'Number {0} is {1:2}' this will give the index + 1 value and then define the decimal points.(1:2)\n",
    "lotto = [5, 27, 8, 260, 41, 32]\n",
    "for idx, num in enumerate(lotto):\n",
    "    print('Number {0} is {1:2}'.format((idx+1),num))"
   ]
  },
  {
   "cell_type": "code",
   "execution_count": 108,
   "metadata": {
    "collapsed": false
   },
   "outputs": [
    {
     "name": "stdout",
     "output_type": "stream",
     "text": [
      "0 5\n",
      "1 27\n",
      "2 8\n",
      "3 260\n",
      "4 41\n",
      "5 32\n"
     ]
    }
   ],
   "source": [
    "for i in range(6):\n",
    "    print(i, lotto[i])"
   ]
  },
  {
   "cell_type": "code",
   "execution_count": 109,
   "metadata": {
    "collapsed": false
   },
   "outputs": [
    {
     "name": "stdout",
     "output_type": "stream",
     "text": [
      "Number 1 is 5\n",
      "Number 2 is 27\n",
      "Number 3 is 8\n",
      "Number 4 is 260\n",
      "Number 5 is 41\n",
      "Number 6 is 32\n"
     ]
    }
   ],
   "source": [
    "for idx, num in enumerate(lotto):\n",
    "    print('Number %d is %d' % ((idx+1), num))"
   ]
  },
  {
   "cell_type": "code",
   "execution_count": null,
   "metadata": {
    "collapsed": true
   },
   "outputs": [],
   "source": []
  },
  {
   "cell_type": "code",
   "execution_count": null,
   "metadata": {
    "collapsed": true
   },
   "outputs": [],
   "source": []
  },
  {
   "cell_type": "code",
   "execution_count": null,
   "metadata": {
    "collapsed": true
   },
   "outputs": [],
   "source": []
  }
 ],
 "metadata": {
  "kernelspec": {
   "display_name": "Python 3",
   "language": "python",
   "name": "python3"
  },
  "language_info": {
   "codemirror_mode": {
    "name": "ipython",
    "version": 3
   },
   "file_extension": ".py",
   "mimetype": "text/x-python",
   "name": "python",
   "nbconvert_exporter": "python",
   "pygments_lexer": "ipython3",
   "version": "3.6.0"
  }
 },
 "nbformat": 4,
 "nbformat_minor": 0
}
